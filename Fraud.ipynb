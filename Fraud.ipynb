{
 "cells": [
  {
   "cell_type": "code",
   "execution_count": 130,
   "id": "ebb9ec7a",
   "metadata": {},
   "outputs": [],
   "source": [
    "import numpy as np\n",
    "import matplotlib.pyplot as plt\n",
    "import pandas as pd\n",
    "dataset = pd.read_csv('Fraud.csv')"
   ]
  },
  {
   "cell_type": "code",
   "execution_count": 131,
   "id": "cfceb757",
   "metadata": {},
   "outputs": [],
   "source": [
    "# Delete irrelevant columns like nameOrig and nameDest\n",
    "del dataset[\"nameOrig\"]\n",
    "del dataset[\"nameDest\"]"
   ]
  },
  {
   "cell_type": "code",
   "execution_count": 132,
   "id": "369b1cc6",
   "metadata": {},
   "outputs": [],
   "source": [
    "# Parameters to consider for the model\n",
    "X = dataset.iloc[:, [1,2,3,4,5,6]].values #excluding step\n",
    "y = dataset.iloc[:, -2].values"
   ]
  },
  {
   "cell_type": "code",
   "execution_count": 133,
   "id": "8a35c48a",
   "metadata": {},
   "outputs": [],
   "source": [
    "# Application of One Hot Encoding for transaction type\n",
    "from sklearn.compose import ColumnTransformer\n",
    "from sklearn.preprocessing import OneHotEncoder\n",
    "ct = ColumnTransformer(transformers= [('encoder',OneHotEncoder(),[0])]  , remainder = 'passthrough' )\n",
    "X = np.array(ct.fit_transform(X))"
   ]
  },
  {
   "cell_type": "code",
   "execution_count": 134,
   "id": "2fca1fcc",
   "metadata": {},
   "outputs": [],
   "source": [
    "# Splitting into training and test data\n",
    "from sklearn.model_selection import train_test_split\n",
    "X_train, X_test, y_train, y_test = train_test_split(X, y, test_size = 0.2, random_state = 0)"
   ]
  },
  {
   "cell_type": "code",
   "execution_count": 135,
   "id": "81a64b3a",
   "metadata": {},
   "outputs": [],
   "source": [
    "# Feature scaling for the features\n",
    "from sklearn.preprocessing import StandardScaler\n",
    "sc = StandardScaler()\n",
    "X_train = sc.fit_transform(X_train)\n",
    "X_test = sc.transform(X_test)"
   ]
  },
  {
   "cell_type": "code",
   "execution_count": 136,
   "id": "2285d64a",
   "metadata": {},
   "outputs": [],
   "source": [
    "# Classifier Models\n",
    "\n",
    "#Decision Tree Classifer - best at 99.9748%\n",
    "from sklearn.tree import DecisionTreeClassifier\n",
    "classifier = DecisionTreeClassifier(criterion = 'entropy', random_state = 0)\n",
    "classifier.fit(X_train, y_train)\n",
    "\n",
    "# Random Forest Classifier - second best at 99.9685%\n",
    "#from sklearn.ensemble import RandomForestClassifier\n",
    "#classifier = RandomForestClassifier(n_estimators = 10, criterion = 'entropy', random_state = 0)\n",
    "#classifier.fit(X_train, y_train)\n",
    "\n",
    "#KNN - third best at 99.9583%\n",
    "#from sklearn.neighbors import KNeighborsClassifier\n",
    "#classifier = KNeighborsClassifier(n_neighbors = 5, metric = 'minkowski', p = 2)\n",
    "#classifier.fit(X_train, y_train)\n",
    "\n",
    "# Linear, log, svm and knn have the same performance at 99.9160%\n",
    "\n",
    "# Linear\n",
    "#from sklearn.linear_model import LinearRegression\n",
    "#regressor = LinearRegression()\n",
    "#regressor.fit(X_train, y_train)\n",
    "\n",
    "#Log\n",
    "#from sklearn.preprocessing import StandardScaler\n",
    "#sc = StandardScaler()\n",
    "#X_train = sc.fit_transform(X_train)\n",
    "#X_test = sc.transform(X_test)\n",
    "#from sklearn.linear_model import LogisticRegression\n",
    "#classifier = LogisticRegression(random_state = 0, max_iter = len(y_train) )\n",
    "#classifier.fit(X_train, y_train)\n",
    "\n",
    "#SVM \n",
    "#from sklearn.svm import SVC\n",
    "#classifier = SVC(kernel = 'linear', random_state = 0)\n",
    "#classifier.fit(X_train, y_train)\n",
    "#y_pred = classifier.predict(X_test)\n",
    "#print(np.concatenate((y_pred.reshape(len(y_pred),1), y_test.reshape(len(y_test),1)),1))\n",
    "\n",
    "#Kernal SVM \n",
    "#from sklearn.svm import SVC\n",
    "#classifier = SVC(kernel = 'rbf', random_state = 0)\n",
    "#classifier.fit(X_train, y_train)\n",
    "\n",
    "#Naive Bayes - worst performance at 56.5791%\n",
    "#from sklearn.naive_bayes import GaussianNB\n",
    "#classifier = GaussianNB()\n",
    "#classifier.fit(X_train, y_train)\n",
    "\n",
    "y_pred = classifier.predict(X_test)"
   ]
  },
  {
   "cell_type": "code",
   "execution_count": 137,
   "id": "09ad3587",
   "metadata": {},
   "outputs": [
    {
     "name": "stdout",
     "output_type": "stream",
     "text": [
      "[[1270731     152]\n",
      " [    169    1472]]\n"
     ]
    },
    {
     "data": {
      "text/plain": [
       "0.9997477454256265"
      ]
     },
     "execution_count": 137,
     "metadata": {},
     "output_type": "execute_result"
    }
   ],
   "source": [
    "# Confusion Matrix and performance\n",
    "from sklearn import metrics\n",
    "from sklearn.metrics import confusion_matrix, accuracy_score\n",
    "cm = confusion_matrix(y_test, y_pred)\n",
    "print(cm)\n",
    "accuracy_score(y_test, y_pred)"
   ]
  },
  {
   "cell_type": "code",
   "execution_count": 138,
   "id": "eb3fab37",
   "metadata": {},
   "outputs": [
    {
     "data": {
      "image/png": "[encoded data removed]",
      "text/plain": [
       "<Figure size 640x480 with 2 Axes>"
      ]
     },
     "metadata": {},
     "output_type": "display_data"
    }
   ],
   "source": [
    "import matplotlib.pyplot as plt\n",
    "cm_display = metrics.ConfusionMatrixDisplay(confusion_matrix = cm, display_labels = [False, True])\n",
    "\n",
    "cm_display.plot()\n",
    "plt.show()"
   ]
  },
  {
   "cell_type": "code",
   "execution_count": 139,
   "id": "5bb6979f",
   "metadata": {},
   "outputs": [],
   "source": [
    "# Conclusion and future predictions"
   ]
  },
  {
   "cell_type": "code",
   "execution_count": 140,
   "id": "091e839b",
   "metadata": {},
   "outputs": [],
   "source": [
    "#1. Describe your fraud detection model in elaboration.\n",
    "# I tried a variety of models for classification of the training data like multiple linear regression,\n",
    "# Logarithmic regression, SVM, Kernel, SVM, Naive Bayes, Decision Tree and Random Forest.\n",
    "# The decision tree classifier was my best performing method.\n",
    "# The decision tree classification works great when some data trends like the amount in the old account being 0 \n",
    "# after a transaction occur. \n",
    "# This is because it makes a hierarchical decision tree based on division of the data into smaller subsets where each \n",
    "# subset might have some parameter / parameter change in common. \n",
    "\n",
    "#2. How did you select variables to be included in the model?\n",
    "# I basically used all the variables since they had some important information about the transaction except the step / time \n",
    "# when the transaction took place.\n",
    "\n",
    "#3. Demonstrate the performance of the model by using best set of tools.\n",
    "# My best model performed at 99.97% and was the Decision Tree Classifier. I used the confusion matrix to get these accuracy values.\n",
    "# My worst model was the Naive Bayes Classifier which performed at 56.58%. This is to be expected since the naive bayes is \n",
    "# worse at classifying datasets which clearly have some correlation between the different variables.\n",
    "\n",
    "#4. What are the key factors that predict fraudulent customer? Do these factors make sense? If yes, How? If not, How not?\n",
    "# After some transactions, the new balance in the original account is 0. This could mean that there is a third party involved.\n",
    "\n",
    "#5. What kind of prevention should be adopted while company update its infrastructure?\n",
    "# The company should verify with the customer whenever they are trying to make a transaction such as transferring all their \n",
    "# funds to a different account.\n",
    "\n",
    "#6. Assuming these actions have been implemented, how would you determine if they work?\n",
    "# The Decision tree classifier could be used again to determine whether the same number of fraudulent transactions are taking place . \n"
   ]
  }
 ],
 "metadata": {
  "kernelspec": {
   "display_name": "Python 3 (ipykernel)",
   "language": "python",
   "name": "python3"
  },
  "language_info": {
   "codemirror_mode": {
    "name": "ipython",
    "version": 3
   },
   "file_extension": ".py",
   "mimetype": "text/x-python",
   "name": "python",
   "nbconvert_exporter": "python",
   "pygments_lexer": "ipython3",
   "version": "3.8.8"
  }
 },
 "nbformat": 4,
 "nbformat_minor": 5
}
